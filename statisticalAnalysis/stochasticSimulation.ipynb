{
 "cells": [
  {
   "cell_type": "markdown",
   "metadata": {},
   "source": [
    "# Stochastic simulation\n"
   ]
  },
  {
   "cell_type": "markdown",
   "metadata": {},
   "source": [
    "With of python we can simulate 𝑛 realizations of 𝑍 by first simulating 𝑛 realizations of 𝑋 using the Python function numpy.random.normal and then calculating the corresponding values of 𝑍. The function simZ have then five input parameters, 𝑛 , 𝜇 , 𝜎 , 𝑎 , and 𝑏 . "
   ]
  },
  {
   "cell_type": "code",
   "execution_count": null,
   "metadata": {},
   "outputs": [],
   "source": [
    "import numpy as np\n",
    "import matplotlib.pyplot as plt\n",
    "\n",
    "def simX(mu, sigma, n):\n",
    "    return np.random.normal(mu, sigma, n)\n",
    "\n",
    "def simZ(a, b, mu, sigma, n):\n",
    "    return a*simX(mu, sigma, n) + b\n",
    "\n",
    "Z = simZ(2, 0.5, 1, 2, 100000)\n",
    "\n",
    "plt.hist(Z, density=True , bins=100)\n",
    "plt.xlabel('z')\n",
    "plt.ylabel('f(z)')\n",
    "\n",
    "Z_s = np.linspace(-20, 20, num=500)\n",
    "\n",
    "E_Z  = 2 * 1 + 0.5\n",
    "Sigma_Z = np.sqrt(2**2 * 2**2)\n",
    "\n",
    "f_Z = lambda Z: (1/(np.sqrt(2*np.pi)*Sigma_Z)) * np.exp(-(1/2)*((Z-E_Z)**2)/(Sigma_Z**2))\n",
    "\n",
    "plt.plot(Z_s, f_Z(Z_s), color='red')\n",
    "plt.show()"
   ]
  }
 ],
 "metadata": {
  "language_info": {
   "name": "python"
  }
 },
 "nbformat": 4,
 "nbformat_minor": 2
}
