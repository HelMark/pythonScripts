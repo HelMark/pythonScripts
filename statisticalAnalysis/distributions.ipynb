{
 "cells": [
  {
   "cell_type": "markdown",
   "metadata": {},
   "source": [
    "# Distributions"
   ]
  },
  {
   "cell_type": "markdown",
   "metadata": {},
   "source": [
    "Histogram of a simulation $n$ generated values of a SV $G$ and a normal distrobution."
   ]
  },
  {
   "cell_type": "code",
   "execution_count": null,
   "metadata": {},
   "outputs": [],
   "source": [
    "import numpy as np\n",
    "import matplotlib.pyplot as plt\n",
    "\n",
    "def simS(mu, sigma, n):\n",
    "    return np.random.normal(mu, sigma, n)\n",
    "\n",
    "def simT(mu, sigma, n):\n",
    "    return np.random.normal(mu, sigma, n)\n",
    "\n",
    "def simG(n):\n",
    "    return 2*simS(241.3, 2, n) / simT(7.02, 1, n)**2\n",
    "\n",
    "def simN(mu, sigma, n):\n",
    "    return np.random.normal(mu, sigma, n)\n",
    "\n",
    "Mu_g = simG(10000).mean()\n",
    "Sigma_g = np.sqrt(simG(10000).var())\n",
    "\n",
    "print(f\"E[G] = {Mu_g}\")\n",
    "print(f\"Var[G] = {Sigma_g}\")\n",
    "\n",
    "plt.hist(simG(10000), density=True, bins=100)\n",
    "plt.hist(simN(1, 1, 10000), density=True, bins=100)\n",
    "plt.xlabel(\"g\")\n",
    "plt.ylabel(\"g(s,t)\")"
   ]
  },
  {
   "cell_type": "markdown",
   "metadata": {},
   "source": [
    "Simulating a proof of the central limit theorem."
   ]
  },
  {
   "cell_type": "code",
   "execution_count": null,
   "metadata": {},
   "outputs": [],
   "source": [
    "def pltShow():\n",
    "    t = np.linspace(0, 1, num=500)\n",
    "\n",
    "    Mu = lambda t: ((np.exp(-t/np.sqrt(n)) * 1/2 + np.exp(t/np.sqrt(n)) * 1/2)**n) \n",
    "    Mz = lambda t: ((np.exp(t**2 / 2)))\n",
    "\n",
    "    plt.plot(t, Mu(t), color=\"red\")\n",
    "    plt.plot(t, Mz(t), color=\"green\")\n",
    "    plt.show()\n",
    "\n",
    "n = 4\n",
    "pltShow()\n",
    "n = 10\n",
    "pltShow()\n",
    "n = 100\n",
    "pltShow()"
   ]
  },
  {
   "cell_type": "markdown",
   "metadata": {},
   "source": [
    "Distrobution of an estimator $\\hat{\\lambda}$ when values are the konstants $\\alpha$ and $\\beta$."
   ]
  },
  {
   "cell_type": "code",
   "execution_count": null,
   "metadata": {},
   "outputs": [],
   "source": [
    "def simLambdaTilde(alpha, beta, x, y):\n",
    "    return alpha * x + beta * y\n",
    "\n",
    "n = 25\n",
    "m = 18\n",
    "lmda = 12\n",
    "r = 1000\n",
    "\n",
    "alpha = 2*n / (2*n + m)\n",
    "beta = 2*m / (2*n + m)\n",
    "\n",
    "\n",
    "lambdatilde_simulated = []\n",
    "\n",
    "for _ in range(r):\n",
    "    x_values = np.random.poisson(lmda, n)\n",
    "    y_values = np.random.poisson(lmda, m)\n",
    "\n",
    "    x = np.mean(x_values)\n",
    "    y = np.mean(y_values)\n",
    "\n",
    "    lambdatilde = simLambdaTilde(alpha, beta, x, y)\n",
    "    lambdatilde_simulated.append(lambdatilde)\n",
    "\n",
    "plt.hist(lambdatilde_simulated, bins=25, density=True, alpha=0.6, color='b')\n",
    "plt.xlabel('LambdaTilde')\n",
    "plt.ylabel('Sannsynlighetstetthet')"
   ]
  },
  {
   "cell_type": "code",
   "execution_count": null,
   "metadata": {},
   "outputs": [],
   "source": [
    "import statsmodels.api as sm\n",
    "\n",
    "sm.qqplot(np.array(lambdatilde_simulated), line=\"s\")\n",
    "plt.title(\"QQ-plot for LambdaTilde\")\n",
    "plt.show()"
   ]
  }
 ],
 "metadata": {
  "language_info": {
   "name": "python"
  }
 },
 "nbformat": 4,
 "nbformat_minor": 2
}
