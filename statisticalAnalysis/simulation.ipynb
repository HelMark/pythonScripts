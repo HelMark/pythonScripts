{
 "cells": [
  {
   "cell_type": "markdown",
   "metadata": {},
   "source": [
    "# Simulation"
   ]
  },
  {
   "cell_type": "markdown",
   "metadata": {},
   "source": [
    "With python we define a function <em>simX</em> that generates $n$ relasizations of a random variable $X$. The function takes as input the number of realizations $n$ and the probability distribution of $X$. The function returns a list of $n$ realizations of $X$."
   ]
  },
  {
   "cell_type": "code",
   "execution_count": null,
   "metadata": {},
   "outputs": [],
   "source": [
    "import numpy as np\n",
    "\n",
    "x = np.arange(6)\n",
    "\n",
    "f_x = np.array([0.05,0.10,0.25,0.40,0.15,0.05]) \n",
    "\n",
    "F_x = [np.sum(f_x[:i]) for i in range(1,7)]\n",
    "def simX(n):\n",
    "    x_sim = np.zeros(n) \n",
    "    for i in range(n):\n",
    "        u = np.random.uniform() \n",
    "        if(u < F_x[0]): \n",
    "            x_sim[i] = x[0]\n",
    "        elif(u <= F_x[1]):\n",
    "            x_sim[i] = x[1] \n",
    "        elif(u <= F_x[2]):\n",
    "            x_sim[i] = x[2] \n",
    "        elif(u <= F_x[3]):\n",
    "            x_sim[i] = x[3] \n",
    "        elif(u <= F_x[4]):\n",
    "            x_sim[i] = x[4] \n",
    "        elif(u > F_x[4]):\n",
    "            x_sim[i] = x[5] \n",
    "    return x_sim"
   ]
  },
  {
   "cell_type": "code",
   "execution_count": null,
   "metadata": {},
   "outputs": [],
   "source": [
    "n = 1000\n",
    "x2 = simX(n)\n",
    "forventningsverdi = np.mean(x)\n",
    "P_X_le_2 = len([i for i in x2 if i <=2])/n\n",
    "\n",
    "print(\"Approksimert forventningsverdi: \", forventningsverdi)\n",
    "print(\"Approksimert sannsynlighet: \",P_X_le_2)"
   ]
  },
  {
   "cell_type": "markdown",
   "metadata": {},
   "source": [
    "With the simulation we generate two histograms. One with a quality parameter $\\alpha$. The histogram is an approximation of the probability distribution of $X$. Two $n$ realizations of $Z$. Finaly we find the approximation of $E[Y]$, $SD[Y]$, $P(Y\\geq 2)$ og $P(Y\\geq 2|Y\\geq 1)$."
   ]
  },
  {
   "cell_type": "code",
   "execution_count": null,
   "metadata": {},
   "outputs": [],
   "source": [
    "import matplotlib.pyplot as plt\n",
    "\n",
    "def simX(n,alpha):\n",
    "    u = np.random.uniform(size=n) #array med n elementer.\n",
    "    x = np.sqrt(-alpha * np.log(1-u))  # fyll inn formelen du fant for x\n",
    "    return x\n",
    "\n",
    "\n",
    "\n",
    "# Sett antall realisasjoner og verdien til alpha\n",
    "n = 10000000\n",
    "alpha = 1\n",
    "\n",
    "# simuler realisasjoner av X\n",
    "x = simX(n, alpha)\n",
    "\n",
    "# Lag sannsynlighetshistogram for de simulerte verdiene\n",
    "plt.hist(x, density=True,bins=100)  #density=True gjør at vi får et sannsynlighetshistogram\n",
    "\n",
    "# Angi navn på aksene\n",
    "plt.xlabel(\"x\")\n",
    "plt.ylabel(\"F(x)\")\n",
    "\n",
    "# Regn ut og plott sannsynlighetstettheten til X på samme plott\n",
    "x_s = np.linspace(0, 4, num=500)\n",
    "F_y = lambda y : ((2*y)/alpha)*np.exp(-y**2/alpha)\n",
    "\n",
    "# Avslutt med å generere alle elementene du har plottet\n",
    "plt.plot(x_s, F_y(x_s), color=\"red\")\n",
    "plt.show()"
   ]
  },
  {
   "cell_type": "code",
   "execution_count": null,
   "metadata": {},
   "outputs": [],
   "source": [
    "n = 10000\n",
    "alpha_values = [1, 1, 1.2, 1.2, 1.2]\n",
    "\n",
    "def get_y(alpha_values, n):\n",
    "    y = []\n",
    "    for _ in range(n):\n",
    "        l = [simX(1, a)[0] for a in alpha_values]\n",
    "        y.append(np.median(l))\n",
    "    return y\n",
    "\n",
    "y = get_y(alpha_values, n)\n",
    "\n",
    "plt.hist(y, density=True, bins=100)\n",
    "plt.xlabel(\"x\")\n",
    "plt.ylabel(\"y\")\n",
    "plt.show()"
   ]
  },
  {
   "cell_type": "code",
   "execution_count": null,
   "metadata": {},
   "outputs": [],
   "source": [
    "Y = get_y(alpha_values, n)\n",
    "\n",
    "##E[Y]\n",
    "def E(y):\n",
    "    return np.mean(y)\n",
    "print(f\"E(Y) = {E(Y)}\")\n",
    "\n",
    "##SD[Y]\n",
    "def SD(Y):\n",
    "    return np.std(Y)\n",
    "print(f\"SD(Y) = {SD(Y)}\")\n",
    "\n",
    "##P(Y >= 2)\n",
    "def P_Y_greaterThan_2(Y):\n",
    "    return len([i for i in Y if i >= 2])/len(Y)\n",
    "print(f\"P(Y >= 2) = {P_Y_greaterThan_2(Y)}\")\n",
    "\n",
    "##P(Y >= 2 | Y >= 1)\n",
    "def P_Y_greaterThatn_2_given_Y_greaterThan_1(Y):\n",
    "    return len([i for i in Y if i >= 2 and i >= 1])/len(Y)\n",
    "print(f\"P(Y >= 2 | Y >= 1) = {P_Y_greaterThatn_2_given_Y_greaterThan_1(Y)}\")"
   ]
  },
  {
   "cell_type": "markdown",
   "metadata": {},
   "source": [
    "Simulation of the game Yatzy."
   ]
  },
  {
   "cell_type": "code",
   "execution_count": null,
   "metadata": {},
   "outputs": [],
   "source": [
    "def yatzy(øyne):\n",
    "    ant = 0\n",
    "    for _ in range(3):\n",
    "        terninger = np.random.randint(1, 7, 5-ant)\n",
    "        for terning in terninger:\n",
    "            if terning == øyne:\n",
    "                ant += 1\n",
    "    return ant\n",
    "\n",
    "def tYatzy_n(n):\n",
    "    liste = []\n",
    "    for _ in range(n):\n",
    "        poeng = 0\n",
    "        for i in range(1, 7):\n",
    "            poeng += yatzy(i)*i\n",
    "        liste.append(poeng)\n",
    "    return liste\n",
    "\n",
    "def tYatzy_n_hist(n):\n",
    "    liste = tYatzy_n(n)\n",
    "    antall = 0\n",
    "    for i in liste:\n",
    "        if i > 41:\n",
    "            antall += 1\n",
    "    print(f\"P(Z>=42) = {antall/n}\")\n",
    "    plt.hist(liste, range(min(liste), max(liste) + 1), density=True)\n",
    "    plt.show()\n",
    "\n",
    "n = 10000\n",
    "tYatzy_n_hist(n)"
   ]
  }
 ],
 "metadata": {
  "language_info": {
   "name": "python"
  }
 },
 "nbformat": 4,
 "nbformat_minor": 2
}
