{
 "cells": [
  {
   "cell_type": "markdown",
   "metadata": {},
   "source": [
    "# Probebility density function"
   ]
  },
  {
   "cell_type": "markdown",
   "metadata": {},
   "source": [
    "Generating a histogram from a list of numbers is simple with the hist() function. The hist() function has many options to tune both the calculation and the display; here's an example of a more customized histogram:"
   ]
  },
  {
   "cell_type": "code",
   "execution_count": 1,
   "metadata": {},
   "outputs": [
    {
     "ename": "ModuleNotFoundError",
     "evalue": "No module named 'numpy'",
     "output_type": "error",
     "traceback": [
      "\u001b[1;31m---------------------------------------------------------------------------\u001b[0m",
      "\u001b[1;31mModuleNotFoundError\u001b[0m                       Traceback (most recent call last)",
      "\u001b[1;32mc:\\Users\\marke\\Desktop\\GitHub\\pythonScripts\\statisticalAnalysis\\probabilityDensityFunction.ipynb Cell 3\u001b[0m line \u001b[0;36m1\n\u001b[1;32m----> <a href='vscode-notebook-cell:/c%3A/Users/marke/Desktop/GitHub/pythonScripts/statisticalAnalysis/probabilityDensityFunction.ipynb#W1sZmlsZQ%3D%3D?line=0'>1</a>\u001b[0m \u001b[39mimport\u001b[39;00m \u001b[39mnumpy\u001b[39;00m \u001b[39mas\u001b[39;00m \u001b[39mnp\u001b[39;00m\n\u001b[0;32m      <a href='vscode-notebook-cell:/c%3A/Users/marke/Desktop/GitHub/pythonScripts/statisticalAnalysis/probabilityDensityFunction.ipynb#W1sZmlsZQ%3D%3D?line=1'>2</a>\u001b[0m \u001b[39mimport\u001b[39;00m \u001b[39mmatplotlib\u001b[39;00m\u001b[39m.\u001b[39;00m\u001b[39mpyplot\u001b[39;00m \u001b[39mas\u001b[39;00m \u001b[39mplt\u001b[39;00m\n\u001b[0;32m      <a href='vscode-notebook-cell:/c%3A/Users/marke/Desktop/GitHub/pythonScripts/statisticalAnalysis/probabilityDensityFunction.ipynb#W1sZmlsZQ%3D%3D?line=3'>4</a>\u001b[0m \u001b[39m#utfallsrom\u001b[39;00m\n",
      "\u001b[1;31mModuleNotFoundError\u001b[0m: No module named 'numpy'"
     ]
    }
   ],
   "source": [
    "import numpy as np\n",
    "import matplotlib.pyplot as plt\n",
    "\n",
    "#utfallsrom\n",
    "x=np.arange(6)\n",
    "\n",
    "#punktsannsynlighet\n",
    "f_x = np.array([0.05,0.10,0.25,0.40,0.15,0.05])\n",
    "\n",
    "#stolpediagram\n",
    "plt.bar(x, f_x)\n",
    "plt.xlabel(\"x\")\n",
    "plt.ylabel(\"f(x)\")  \n",
    "plt.title(\"Stolpediagram for f(x)\") \n",
    "plt.show()"
   ]
  },
  {
   "cell_type": "code",
   "execution_count": null,
   "metadata": {},
   "outputs": [],
   "source": [
    "# sett x-verdier og beregn tilhørende F(x)\n",
    "x = [-1,0]\n",
    "F_x = [0,0]\n",
    "\n",
    "for i in np.arange(5+1):    # for-løkke over verdiene 0,1,2,3,4,5\n",
    "    x = x + [i,i+1]\n",
    "    FF = np.sum(f_x[np.arange(i+1)])   # verdien til F(i)\n",
    "    F_x = F_x + [FF,FF]\n",
    "\n",
    "# lag plott av F(x)\n",
    "plt.plot(x, F_x, color=\"red\") \n",
    "plt.xlabel(\"x\")\n",
    "plt.ylabel(\"F(x)\")\n",
    "plt.show()"
   ]
  },
  {
   "cell_type": "markdown",
   "metadata": {},
   "source": [
    "Generating a plot probability density function from a list of numbers is simple with the hist() function. The hist() function has many options to tune both the calculation and the display; here's an example of a more customized density plot:"
   ]
  },
  {
   "cell_type": "code",
   "execution_count": null,
   "metadata": {},
   "outputs": [],
   "source": [
    "# Sett hvilke x-verdier du vil plotte for\n",
    "x = np.linspace(0,5,100)\n",
    "\n",
    "# Sett verdien for parameteren alpha\n",
    "alpha = 1\n",
    "\n",
    "# Beregn kumulativ fordelingsfunksjon\n",
    "F_x = lambda x : 1- np.exp(-x**2/alpha)\n",
    "plt.plot(x, F_x(x), color=\"red\") \n",
    "plt.xlabel(\"x\")\n",
    "plt.ylabel(\"F(x)\") \n",
    "plt.show()"
   ]
  },
  {
   "cell_type": "code",
   "execution_count": null,
   "metadata": {},
   "outputs": [],
   "source": [
    "# Sett hvilke x-verdier du vil plotte for\n",
    "x = np.linspace(0,5,100)\n",
    "\n",
    "# Sett verdien for parameteren alpha\n",
    "alpha = 1\n",
    "\n",
    "# Beregn så sannsynlighetstettheten og plott opp funksjonen\n",
    "f_x = lambda x : (2*x*np.exp(-x**2/alpha) / alpha)\n",
    "f_z = lambda x : (4*x*np.exp(-x**2 / alpha)-4*x*np.exp(-2*x**2/alpha))/alpha\n",
    "plt.plot(x, f_x(x), color=\"blue\")\n",
    "plt.plot(x, f_z(x), color=\"red\")\n",
    "plt.xlabel(\"x\")\n",
    "plt.ylabel(\"f(x)\")\n",
    "plt.show()"
   ]
  }
 ],
 "metadata": {
  "kernelspec": {
   "display_name": "Python 3",
   "language": "python",
   "name": "python3"
  },
  "language_info": {
   "codemirror_mode": {
    "name": "ipython",
    "version": 3
   },
   "file_extension": ".py",
   "mimetype": "text/x-python",
   "name": "python",
   "nbconvert_exporter": "python",
   "pygments_lexer": "ipython3",
   "version": "3.10.6"
  }
 },
 "nbformat": 4,
 "nbformat_minor": 2
}
